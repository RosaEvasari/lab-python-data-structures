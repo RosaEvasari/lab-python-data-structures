{
 "cells": [
  {
   "cell_type": "markdown",
   "metadata": {
    "tags": []
   },
   "source": [
    "# Lab | Data Structures "
   ]
  },
  {
   "cell_type": "markdown",
   "metadata": {},
   "source": [
    "## Exercise: Managing Customer Orders\n",
    "\n",
    "As part of a business venture, you are starting an online store that sells various products. To ensure smooth operations, you need to develop a program that manages customer orders and inventory.\n",
    "\n",
    "Follow the steps below to complete the exercise:\n",
    "\n",
    "1. Define a list called `products` that contains the following items: \"t-shirt\", \"mug\", \"hat\", \"book\", \"keychain\".\n",
    "\n",
    "2. Create an empty dictionary called `inventory`.\n",
    "\n",
    "3. Ask the user to input the quantity of each product available in the inventory. Use the product names from the `products` list as keys in the `inventory` dictionary and assign the respective quantities as values.\n",
    "\n",
    "4. Create an empty set called `customer_orders`.\n",
    "\n",
    "5. Ask the user to input the name of three products that a customer wants to order (from those in the products list, meaning three products out of \"t-shirt\", \"mug\", \"hat\", \"book\" or \"keychain\". Add each product name to the `customer_orders` set.\n",
    "\n",
    "6. Print the products in the `customer_orders` set.\n",
    "\n",
    "7. Calculate the following order statistics:\n",
    "   - Total Products Ordered: The total number of products in the `customer_orders` set.\n",
    "   - Percentage of Products Ordered: The percentage of products ordered compared to the total available products.\n",
    "   \n",
    "   Store these statistics in a tuple called `order_status`.\n",
    "\n",
    "8. Print the order statistics using the following format:\n",
    "   ```\n",
    "   Order Statistics:\n",
    "   Total Products Ordered: <total_products_ordered>\n",
    "   Percentage of Products Ordered: <percentage_ordered>% \n",
    "   ```\n",
    "\n",
    "9. Update the inventory by subtracting 1 from the quantity of each product. Modify the `inventory` dictionary accordingly.\n",
    "\n",
    "10. Print the updated inventory, displaying the quantity of each product on separate lines.\n",
    "\n",
    "Solve the exercise by implementing the steps using the Python concepts of lists, dictionaries, sets, and basic input/output operations. "
   ]
  },
  {
   "cell_type": "code",
   "execution_count": 2,
   "metadata": {},
   "outputs": [
    {
     "name": "stdout",
     "output_type": "stream",
     "text": [
      "{'t-shirt': 10, 'mug': 2, 'hat': 5, 'book': 8, 'keychain': 20}\n"
     ]
    }
   ],
   "source": [
    "# Define a list \n",
    "products = [\"t-shirt\", \"mug\", \"hat\", \"book\", \"keychain\"]\n",
    "\n",
    "# Create an empty dictionary\n",
    "inventory = {}\n",
    "\n",
    "# Prompt the user to enter the quantity of each product avaiable in the inventory\n",
    "for i in products:\n",
    "    Quantity_of_each_product = int(input(f\"Enter the quantity of {i} in the inventory: \"))\n",
    "    inventory[i] = Quantity_of_each_product\n",
    "\n",
    "print(inventory)    "
   ]
  },
  {
   "cell_type": "code",
   "execution_count": 4,
   "metadata": {},
   "outputs": [
    {
     "name": "stdout",
     "output_type": "stream",
     "text": [
      "{'hat', 'mug', 'book'}\n"
     ]
    }
   ],
   "source": [
    "# Create an empty set \n",
    "customer_orders = set()\n",
    "\n",
    "# Prompt the user to input the name of three products that a customer wants to order\n",
    "\n",
    "for i in range(3):\n",
    "    products_input = input(\"Enter the name of product that a customer wants to order: \")\n",
    "    customer_orders.add(products_input)\n",
    "\n",
    "print(customer_orders)"
   ]
  },
  {
   "cell_type": "code",
   "execution_count": 5,
   "metadata": {},
   "outputs": [
    {
     "name": "stdout",
     "output_type": "stream",
     "text": [
      "(15, 33.33)\n",
      "Order Statistics:\n",
      "Total Products Ordered: 15 items.\n",
      "Percentage of products ordered: 33.33 %\n"
     ]
    }
   ],
   "source": [
    "# Calculate total products ordered\n",
    "products_ordered = []\n",
    "\n",
    "for i in customer_orders:\n",
    "    if i in inventory:\n",
    "        value = inventory.get(i)\n",
    "    products_ordered.append(value)\n",
    "\n",
    "Total_products_ordered = sum(products_ordered)\n",
    "\n",
    "# Calculate percentage of products ordered\n",
    "Total_available_products = sum(inventory.values())\n",
    "    \n",
    "Percentage_of_products_ordered = round(Total_products_ordered/Total_available_products*100,2)\n",
    "\n",
    "# Store these statistics in a tuple\n",
    "order_status = (Total_products_ordered, Percentage_of_products_ordered)\n",
    "\n",
    "print(order_status)\n",
    "\n",
    "# Print order statistics using the specified format\n",
    "print(\"Order Statistics:\")\n",
    "print(\"Total Products Ordered:\", Total_products_ordered, \"items.\")\n",
    "print(\"Percentage of products ordered:\", Percentage_of_products_ordered, \"%\")"
   ]
  },
  {
   "cell_type": "code",
   "execution_count": 6,
   "metadata": {},
   "outputs": [
    {
     "name": "stdout",
     "output_type": "stream",
     "text": [
      "{'t-shirt': 9, 'mug': 1, 'hat': 4, 'book': 7, 'keychain': 19}\n"
     ]
    }
   ],
   "source": [
    "# Update the inventory by substracting 1 from the quantity of each product.\n",
    "\n",
    "for i in inventory:\n",
    "   inventory[i] -= 1\n",
    "    \n",
    "print(inventory)"
   ]
  },
  {
   "cell_type": "code",
   "execution_count": null,
   "metadata": {},
   "outputs": [],
   "source": []
  }
 ],
 "metadata": {
  "kernelspec": {
   "display_name": "Python 3 (ipykernel)",
   "language": "python",
   "name": "python3"
  },
  "language_info": {
   "codemirror_mode": {
    "name": "ipython",
    "version": 3
   },
   "file_extension": ".py",
   "mimetype": "text/x-python",
   "name": "python",
   "nbconvert_exporter": "python",
   "pygments_lexer": "ipython3",
   "version": "3.11.7"
  }
 },
 "nbformat": 4,
 "nbformat_minor": 4
}
